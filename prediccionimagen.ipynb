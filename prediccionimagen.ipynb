{
 "cells": [
  {
   "cell_type": "markdown",
   "id": "69001d89-1d54-42c8-aee2-1591d07295c8",
   "metadata": {},
   "source": [
    "# Predecir imagen"
   ]
  },
  {
   "cell_type": "code",
   "execution_count": 3,
   "id": "76821bbc-8464-4173-972e-607661a7cca4",
   "metadata": {},
   "outputs": [
    {
     "name": "stdout",
     "output_type": "stream",
     "text": [
      "2.10.0\n"
     ]
    }
   ],
   "source": [
    "#Objetivo: Predecir una imagen\n",
    "#Se utilizarà la libreria de Tenson Flow, API Keras\n",
    "#Probar conecion con Tensor Flow\n",
    "\n",
    "import tensorflow as tf\n",
    "from tensorflow import keras\n",
    "print (tf.__version__)"
   ]
  },
  {
   "cell_type": "code",
   "execution_count": null,
   "id": "39cb3569-7122-4df2-afef-5f77cf905051",
   "metadata": {},
   "outputs": [],
   "source": []
  }
 ],
 "metadata": {
  "kernelspec": {
   "display_name": "Python 3 (ipykernel)",
   "language": "python",
   "name": "python3"
  },
  "language_info": {
   "codemirror_mode": {
    "name": "ipython",
    "version": 3
   },
   "file_extension": ".py",
   "mimetype": "text/x-python",
   "name": "python",
   "nbconvert_exporter": "python",
   "pygments_lexer": "ipython3",
   "version": "3.10.7"
  }
 },
 "nbformat": 4,
 "nbformat_minor": 5
}
