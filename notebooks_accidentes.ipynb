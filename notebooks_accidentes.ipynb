{
  "metadata": {
    "language_info": {
      "codemirror_mode": {
        "name": "python",
        "version": 3
      },
      "file_extension": ".py",
      "mimetype": "text/x-python",
      "name": "python",
      "nbconvert_exporter": "python",
      "pygments_lexer": "ipython3",
      "version": "3.8"
    },
    "kernelspec": {
      "name": "python",
      "display_name": "Python (Pyodide)",
      "language": "python"
    }
  },
  "nbformat_minor": 4,
  "nbformat": 4,
  "cells": [
    {
      "cell_type": "markdown",
      "source": "# Introducciòn a IA (Inteligencia Artificial)",
      "metadata": {}
    },
    {
      "cell_type": "markdown",
      "source": "## Regresion Lineal Accidentes",
      "metadata": {}
    },
    {
      "cell_type": "code",
      "source": "# Llamar a las librerias de Pandas - numpy - matplotlib - scikit learn linear_model(LinearRegression)\nimport pandas as pd\nimport matplotlib.pyplot as plt\nimport numpy as np\nfrom sklearn.linear_model import LinearRegression",
      "metadata": {
        "trusted": true
      },
      "execution_count": 3,
      "outputs": []
    },
    {
      "cell_type": "code",
      "source": "# Conectarse con el archivo de excel\naccidente_df = pd.read_csv(\"Datos Accidentes.csv\")\naccidente_df",
      "metadata": {
        "trusted": true
      },
      "execution_count": 6,
      "outputs": [
        {
          "execution_count": 6,
          "output_type": "execute_result",
          "data": {
            "text/plain": "       Localidad  Habitantes  Num. Accidentes\n0    Localidad 1        5268               75\n1    Localidad 2       10657              124\n2    Localidad 3        7500               94\n3    Localidad 4       13578              147\n4    Localidad 5       22356              287\n5    Localidad 6        8678              101\n6    Localidad 7       34687              358\n7    Localidad 8       18368              167\n8    Localidad 9       76248             1200\n9   Localidad 10       56874              580\n10  Localidad 11       45000              677\n11  Localidad 12       59000              873",
            "text/html": "<div>\n<style scoped>\n    .dataframe tbody tr th:only-of-type {\n        vertical-align: middle;\n    }\n\n    .dataframe tbody tr th {\n        vertical-align: top;\n    }\n\n    .dataframe thead th {\n        text-align: right;\n    }\n</style>\n<table border=\"1\" class=\"dataframe\">\n  <thead>\n    <tr style=\"text-align: right;\">\n      <th></th>\n      <th>Localidad</th>\n      <th>Habitantes</th>\n      <th>Num. Accidentes</th>\n    </tr>\n  </thead>\n  <tbody>\n    <tr>\n      <th>0</th>\n      <td>Localidad 1</td>\n      <td>5268</td>\n      <td>75</td>\n    </tr>\n    <tr>\n      <th>1</th>\n      <td>Localidad 2</td>\n      <td>10657</td>\n      <td>124</td>\n    </tr>\n    <tr>\n      <th>2</th>\n      <td>Localidad 3</td>\n      <td>7500</td>\n      <td>94</td>\n    </tr>\n    <tr>\n      <th>3</th>\n      <td>Localidad 4</td>\n      <td>13578</td>\n      <td>147</td>\n    </tr>\n    <tr>\n      <th>4</th>\n      <td>Localidad 5</td>\n      <td>22356</td>\n      <td>287</td>\n    </tr>\n    <tr>\n      <th>5</th>\n      <td>Localidad 6</td>\n      <td>8678</td>\n      <td>101</td>\n    </tr>\n    <tr>\n      <th>6</th>\n      <td>Localidad 7</td>\n      <td>34687</td>\n      <td>358</td>\n    </tr>\n    <tr>\n      <th>7</th>\n      <td>Localidad 8</td>\n      <td>18368</td>\n      <td>167</td>\n    </tr>\n    <tr>\n      <th>8</th>\n      <td>Localidad 9</td>\n      <td>76248</td>\n      <td>1200</td>\n    </tr>\n    <tr>\n      <th>9</th>\n      <td>Localidad 10</td>\n      <td>56874</td>\n      <td>580</td>\n    </tr>\n    <tr>\n      <th>10</th>\n      <td>Localidad 11</td>\n      <td>45000</td>\n      <td>677</td>\n    </tr>\n    <tr>\n      <th>11</th>\n      <td>Localidad 12</td>\n      <td>59000</td>\n      <td>873</td>\n    </tr>\n  </tbody>\n</table>\n</div>"
          },
          "metadata": {}
        }
      ]
    },
    {
      "cell_type": "code",
      "source": "# Asignar las variable dependiente y la independiente\nx = accidente_df[\"Habitantes\"]\ny = accidente_df[\"Num. Accidentes\"]",
      "metadata": {
        "trusted": true
      },
      "execution_count": 9,
      "outputs": []
    },
    {
      "cell_type": "code",
      "source": "x",
      "metadata": {
        "trusted": true
      },
      "execution_count": 10,
      "outputs": [
        {
          "execution_count": 10,
          "output_type": "execute_result",
          "data": {
            "text/plain": "0      5268\n1     10657\n2      7500\n3     13578\n4     22356\n5      8678\n6     34687\n7     18368\n8     76248\n9     56874\n10    45000\n11    59000\nName: Habitantes, dtype: int64"
          },
          "metadata": {}
        }
      ]
    },
    {
      "cell_type": "code",
      "source": "y",
      "metadata": {
        "trusted": true
      },
      "execution_count": 11,
      "outputs": [
        {
          "execution_count": 11,
          "output_type": "execute_result",
          "data": {
            "text/plain": "0       75\n1      124\n2       94\n3      147\n4      287\n5      101\n6      358\n7      167\n8     1200\n9      580\n10     677\n11     873\nName: Num. Accidentes, dtype: int64"
          },
          "metadata": {}
        }
      ]
    },
    {
      "cell_type": "code",
      "source": "# Vamos a crear el grafico de dispersion\n\nplt.scatter(x, y, label='data', color='blue')\nplt.title('Número de accidentes')\nplt.show()",
      "metadata": {
        "trusted": true
      },
      "execution_count": 22,
      "outputs": [
        {
          "output_type": "display_data",
          "data": {
            "text/plain": "<pyolite.display.Image at 0x85c97c8>",
            "image/png": "[encoded data removed]"
          },
          "metadata": {}
        }
      ]
    },
    {
      "cell_type": "code",
      "source": "# Importar la clase de regresion lineal. \n# Funcion para calcular las dos constantes:\nregresion_lineal = LinearRegression()\n\n#Aqui vamos a entrenar el modelo con fit, el reshape es el remodelado\nregresion_lineal.fit(x.values.reshape(-1,1),y)\n\nprint(\"Pendiente\" + str (regresion_lineal.coef_)) # La pendiente\nprint(\"intercepción\" + str (regresion_lineal.intercept_)) # con intercepcion",
      "metadata": {
        "trusted": true
      },
      "execution_count": 26,
      "outputs": [
        {
          "name": "stdout",
          "text": "Pendiente[0.01476025]\nintercepción-50.36071523853519\n",
          "output_type": "stream"
        }
      ]
    },
    {
      "cell_type": "code",
      "source": "# Realizar la prediccion para determinar el numero de accidente segun la poblacion\nnew_x = np.array([200000])\nprediccion = regresion_lineal.predict(new_x .reshape(-1,1))\nprint (prediccion)",
      "metadata": {
        "trusted": true
      },
      "execution_count": 28,
      "outputs": [
        {
          "name": "stdout",
          "text": "[2901.68950215]\n",
          "output_type": "stream"
        }
      ]
    },
    {
      "cell_type": "code",
      "source": "# Calcular el R2, para conocer queb tan cerca se esta de la linea de tendencia\nr2 = regresion_lineal.score(x.values.reshape(-1,1),y)\nprint (\"Coenficiente R2 del modelo \" + str(r2))",
      "metadata": {
        "trusted": true
      },
      "execution_count": 30,
      "outputs": [
        {
          "name": "stdout",
          "text": "Coenficiente R2 del modelo 0.942831588422524\n",
          "output_type": "stream"
        }
      ]
    },
    {
      "cell_type": "code",
      "source": "",
      "metadata": {},
      "execution_count": null,
      "outputs": []
    }
  ]
}