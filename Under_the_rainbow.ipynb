{
  "nbformat": 4,
  "nbformat_minor": 0,
  "metadata": {
    "colab": {
      "provenance": [],
      "authorship_tag": "ABX9TyPTDO7FyIRLqrYDWN49IPFH",
      "include_colab_link": true
    },
    "kernelspec": {
      "name": "python3",
      "display_name": "Python 3"
    },
    "language_info": {
      "name": "python"
    }
  },
  "cells": [
    {
      "cell_type": "markdown",
      "metadata": {
        "id": "view-in-github",
        "colab_type": "text"
      },
      "source": [
        "<a href=\"https://colab.research.google.com/github/neiluz/Repositorio_practica/blob/main/Under_the_rainbow.ipynb\" target=\"_parent\"><img src=\"https://colab.research.google.com/assets/colab-badge.svg\" alt=\"Open In Colab\"/></a>"
      ]
    },
    {
      "cell_type": "markdown",
      "source": [
        "# **Under the rainbow**"
      ],
      "metadata": {
        "id": "CfBs-oIDJ6s_"
      }
    },
    {
      "cell_type": "markdown",
      "source": [
        "Se colocan 70 bolas de colores en una urna, 10 para cada uno de los siete colores del arco iris.\n",
        "\n",
        "¿Cuál es el número esperado de colores distintos en 20 bolas elegidas al azar?\n",
        "\n",
        "Dé su respuesta con nueve dígitos después del punto decimal (a.bcdefghij)."
      ],
      "metadata": {
        "id": "p6gne4AxNSBR"
      }
    },
    {
      "cell_type": "markdown",
      "source": [
        "Se utilizará la distribución hipergeométrica. La distribución hipergeométrica se utiliza cuando se extrae una muestra sin reemplazo de una población finita en la que hay dos categorías distintas. \n",
        "\n",
        "El número esperado de colores distintos se puede calcular utilizando la fórmula de la media de la distribución hipergeométrica:\n",
        "\n",
        "E(X) = n * (K/N)\n",
        "\n",
        "Donde:\n",
        "\n",
        "E(X) es el número esperado de colores distintos.\n",
        "n es el tamaño de la muestra, en este caso, 20 bolas.\n",
        "K es el número de elementos de la categoría de interés en la población, en este caso, el número de colores distintos, que es 7.\n",
        "N es el tamaño de la población, en este caso, el número total de bolas, que es 70."
      ],
      "metadata": {
        "id": "APsARRyDNZ4A"
      }
    },
    {
      "cell_type": "code",
      "execution_count": 1,
      "metadata": {
        "id": "ohTHvHmJJB7P"
      },
      "outputs": [],
      "source": [
        "def Under_the_rainbow (n,K,N):\n",
        "  expected_number = n * (K/N)\n",
        "  return \"{:.9f}\".format(expected_number)"
      ]
    },
    {
      "cell_type": "code",
      "source": [
        "n = 20  # Sample size\n",
        "K = 7  # Number of distinct colors\n",
        "N = 70  # Total population size\n",
        "\n",
        "result =  Under_the_rainbow (n,K,N)\n",
        "print (result)\n",
        "# print (\"El numero esperado de colores distintos es\" + str(result))"
      ],
      "metadata": {
        "colab": {
          "base_uri": "https://localhost:8080/"
        },
        "id": "swEfAdQyLiKq",
        "outputId": "a64ac66f-07d0-4aec-cfd7-7d84fdb4c11c"
      },
      "execution_count": 2,
      "outputs": [
        {
          "output_type": "stream",
          "name": "stdout",
          "text": [
            "2.000000000\n"
          ]
        }
      ]
    },
    {
      "cell_type": "code",
      "source": [
        "# Crear un diccionario con los datos de predicción\n",
        "prediction_data = {\n",
        "    \"expected_number_of_colors\": result\n",
        "}"
      ],
      "metadata": {
        "id": "qcDHUtP3O7b4"
      },
      "execution_count": 3,
      "outputs": []
    },
    {
      "cell_type": "code",
      "source": [
        "import json\n",
        "# Guardar el diccionario en el archivo predictions.json\n",
        "with open(\"predictions.json\", \"w\") as file:\n",
        "    json.dump(prediction_data, file)"
      ],
      "metadata": {
        "id": "L4ow_lCxPLVz"
      },
      "execution_count": 5,
      "outputs": []
    }
  ]
}